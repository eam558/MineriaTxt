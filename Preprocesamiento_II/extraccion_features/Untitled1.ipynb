{
 "cells": [
  {
   "cell_type": "code",
   "execution_count": 21,
   "metadata": {
    "collapsed": true
   },
   "outputs": [],
   "source": [
    "import numpy as np\n",
    "import matplotlib.pyplot as plt"
   ]
  },
  {
   "cell_type": "code",
   "execution_count": 22,
   "metadata": {
    "collapsed": true
   },
   "outputs": [],
   "source": [
    "def palabras_por_linea(parrafo):\n",
    "    lineas = parrafo.split('\\n')\n",
    "    lineas = [x.strip() for x in lineas] \n",
    "    return [len(x.split()) for x in lineas]"
   ]
  },
  {
   "cell_type": "code",
   "execution_count": 23,
   "metadata": {
    "collapsed": false
   },
   "outputs": [],
   "source": [
    "lineas_por_parra_todas_entrevistas = []\n",
    "palabras_por_lineas_todas_entrevistas = []\n",
    "\n",
    "with open(\"nombres.txt\", 'r') as f:\n",
    "    archivos = [x.strip() for x in f.read().split('\\n') if len(x.strip())>0]\n",
    "\n",
    "for archivo in archivos:\n",
    "    with open(\"datos_limpios/\"+archivo, 'r') as k:\n",
    "        entrevista_sin_separar = k.read()\n",
    "\n",
    "\n",
    "    #Separamos por párrafo. Si se desea por frase quite el \"\\.\" del parámetro del split.\n",
    "    entevista_por_punto = entrevista_sin_separar.split(\".\")\n",
    "\n",
    "    lineas_por_parra = []\n",
    "    for parra in entevista_por_punto:\n",
    "        parra = parra.strip()\n",
    "        lineas_por_parra.append(len(parra.split(\"\\n\")))\n",
    "        palabras_por_lineas_todas_entrevistas += palabras_por_linea(parra)\n",
    "\n",
    "    lineas_por_parra_todas_entrevistas+=lineas_por_parra\n"
   ]
  },
  {
   "cell_type": "code",
   "execution_count": 36,
   "metadata": {
    "collapsed": false
   },
   "outputs": [],
   "source": [
    "def filtrar_num_lineas(umbral):\n",
    "    lista_conteos_filtrada = list(filter(lambda x: x<umbral, lineas_por_parra_todas_entrevistas))\n",
    "    lista_conteos_filtrada = np.array(lista_conteos_filtrada)\n",
    "    plt.hist(lista_conteos_filtrada)\n",
    "    plt.show() \n",
    "    \n",
    "def filtrar_num_palabras(umbral, umbral2):\n",
    "    lista_conteos_filtrada = list(filter(lambda x: x<umbral and umbral2<x, palabras_por_lineas_todas_entrevistas))\n",
    "    lista_conteos_filtrada = np.array(lista_conteos_filtrada)\n",
    "    plt.hist(lista_conteos_filtrada)\n",
    "    plt.show() "
   ]
  },
  {
   "cell_type": "code",
   "execution_count": 35,
   "metadata": {
    "collapsed": false
   },
   "outputs": [],
   "source": [
    "filtrar_num_lineas(10)"
   ]
  },
  {
   "cell_type": "code",
   "execution_count": 37,
   "metadata": {
    "collapsed": true
   },
   "outputs": [],
   "source": [
    "filtrar_num_palabras(20, 3)"
   ]
  },
  {
   "cell_type": "code",
   "execution_count": 6,
   "metadata": {
    "collapsed": false
   },
   "outputs": [
    {
     "data": {
      "text/plain": [
       "232"
      ]
     },
     "execution_count": 6,
     "metadata": {},
     "output_type": "execute_result"
    }
   ],
   "source": [
    "max(lineas_por_parra_todas_entrevistas)"
   ]
  },
  {
   "cell_type": "code",
   "execution_count": 19,
   "metadata": {
    "collapsed": false
   },
   "outputs": [
    {
     "data": {
      "text/plain": [
       "28290"
      ]
     },
     "execution_count": 19,
     "metadata": {},
     "output_type": "execute_result"
    }
   ],
   "source": [
    "len(lineas_por_parra_todas_entrevistas)"
   ]
  },
  {
   "cell_type": "code",
   "execution_count": 24,
   "metadata": {
    "collapsed": false
   },
   "outputs": [
    {
     "data": {
      "text/plain": [
       "56"
      ]
     },
     "execution_count": 24,
     "metadata": {},
     "output_type": "execute_result"
    }
   ],
   "source": [
    "max(palabras_por_lineas_todas_entrevistas)"
   ]
  },
  {
   "cell_type": "code",
   "execution_count": 25,
   "metadata": {
    "collapsed": false
   },
   "outputs": [
    {
     "data": {
      "text/plain": [
       "109905"
      ]
     },
     "execution_count": 25,
     "metadata": {},
     "output_type": "execute_result"
    }
   ],
   "source": [
    "len(palabras_por_lineas_todas_entrevistas)"
   ]
  },
  {
   "cell_type": "code",
   "execution_count": 32,
   "metadata": {
    "collapsed": false
   },
   "outputs": [
    {
     "data": {
      "text/plain": [
       "4.5489741140075521"
      ]
     },
     "execution_count": 32,
     "metadata": {},
     "output_type": "execute_result"
    }
   ],
   "source": [
    "np.mean(palabras_por_lineas_todas_entrevistas)"
   ]
  },
  {
   "cell_type": "code",
   "execution_count": null,
   "metadata": {
    "collapsed": true
   },
   "outputs": [],
   "source": []
  }
 ],
 "metadata": {
  "anaconda-cloud": {},
  "kernelspec": {
   "display_name": "Python [Root]",
   "language": "python",
   "name": "Python [Root]"
  },
  "language_info": {
   "codemirror_mode": {
    "name": "ipython",
    "version": 3
   },
   "file_extension": ".py",
   "mimetype": "text/x-python",
   "name": "python",
   "nbconvert_exporter": "python",
   "pygments_lexer": "ipython3",
   "version": "3.5.2"
  }
 },
 "nbformat": 4,
 "nbformat_minor": 0
}
