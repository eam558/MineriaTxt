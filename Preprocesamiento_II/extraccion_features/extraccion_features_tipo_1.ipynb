{
 "cells": [
  {
   "cell_type": "code",
   "execution_count": 2,
   "metadata": {
    "collapsed": true
   },
   "outputs": [],
   "source": [
    "import re"
   ]
  },
  {
   "cell_type": "code",
   "execution_count": 4,
   "metadata": {
    "collapsed": false
   },
   "outputs": [],
   "source": [
    "def extraccion_parrafo(pparrafo, palabra):\n",
    "    parrafo=pparrafo.split()\n",
    "    contador=0\n",
    "    tam=len(parrafo)\n",
    "\n",
    "    rta=[]\n",
    "    for p in parrafo:\n",
    "        contador+=1\n",
    "        if p == palabra:\n",
    "            parrafo_nuevo=''\n",
    "            if contador>=25:\n",
    "                if tam-contador >=25:\n",
    "                    rta.append(\" \".join(parrafo[contador-25:contador+26]))\n",
    "                elif contador<25:\n",
    "                    rta.append(\" \".join(parrafo[contador-25:]))\n",
    "            elif contador<25:\n",
    "                if tam-contador >=25:\n",
    "                    rta.append(\" \".join(parrafo[:contador+26]))\n",
    "                elif tam-contador < 25:\n",
    "                    rta.append(\" \".join(parrafo))\n",
    "    return rta\n",
    "\n",
    "def parrafo_final(texto, palabra):\n",
    "    rta=[]\n",
    "    parrafos= texto.split(\".\\n\")\n",
    "    for parrafo in parrafos:\n",
    "        if parrafo.find(palabra)>-1:\n",
    "            if len(parrafo.split(\"\\n\"))>7:\n",
    "\n",
    "\n",
    "                rta += extraccion_parrafo(parrafo,palabra)\n",
    "            else: rta+= [parrafo]\n",
    "\n",
    "    return rta\n"
   ]
  },
  {
   "cell_type": "code",
   "execution_count": 44,
   "metadata": {
    "collapsed": false
   },
   "outputs": [],
   "source": [
    "with open(\"nombres.txt\", 'r') as f:\n",
    "    nombres_archivos = [x.strip() for x in f.read().split('\\n') if len(x.strip())>0]\n",
    "    for nombre in nombres_archivos:\n",
    "        with open(\"datos_limpios/0712-03_Entrevista_militar.txt\", 'r') as fread:\n",
    "            for parrafo in parrafo_final(fread.read(), \"acos\"):\n",
    "                print(parrafo)\n",
    "                print('\\n')"
   ]
  },
  {
   "cell_type": "code",
   "execution_count": null,
   "metadata": {
    "collapsed": true
   },
   "outputs": [],
   "source": []
  },
  {
   "cell_type": "code",
   "execution_count": null,
   "metadata": {
    "collapsed": true
   },
   "outputs": [],
   "source": []
  }
 ],
 "metadata": {
  "anaconda-cloud": {},
  "kernelspec": {
   "display_name": "Python [Root]",
   "language": "python",
   "name": "Python [Root]"
  },
  "language_info": {
   "codemirror_mode": {
    "name": "ipython",
    "version": 3
   },
   "file_extension": ".py",
   "mimetype": "text/x-python",
   "name": "python",
   "nbconvert_exporter": "python",
   "pygments_lexer": "ipython3",
   "version": "3.5.2"
  }
 },
 "nbformat": 4,
 "nbformat_minor": 0
}
