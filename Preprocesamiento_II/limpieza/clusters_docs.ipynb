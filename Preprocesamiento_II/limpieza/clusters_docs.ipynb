{
 "cells": [
  {
   "cell_type": "code",
   "execution_count": 1,
   "metadata": {
    "collapsed": true
   },
   "outputs": [],
   "source": [
    "import matplotlib.pyplot as plt\n",
    "import pandas as pd\n",
    "import seaborn as sns\n",
    "%matplotlib inline"
   ]
  },
  {
   "cell_type": "code",
   "execution_count": 3,
   "metadata": {
    "collapsed": false
   },
   "outputs": [
    {
     "data": {
      "text/html": [
       "<div>\n",
       "<table border=\"1\" class=\"dataframe\">\n",
       "  <thead>\n",
       "    <tr style=\"text-align: right;\">\n",
       "      <th></th>\n",
       "      <th>nombre_archivo</th>\n",
       "      <th>score1</th>\n",
       "      <th>score2</th>\n",
       "      <th>score3</th>\n",
       "      <th>score4</th>\n",
       "      <th>score5</th>\n",
       "      <th>score6</th>\n",
       "      <th>nro_cluster</th>\n",
       "    </tr>\n",
       "  </thead>\n",
       "  <tbody>\n",
       "    <tr>\n",
       "      <th>0</th>\n",
       "      <td>0688-03_Entrevista_militar.txt</td>\n",
       "      <td>0.007424</td>\n",
       "      <td>0.001747</td>\n",
       "      <td>0.004803</td>\n",
       "      <td>0.004367</td>\n",
       "      <td>0.021834</td>\n",
       "      <td>0.301747</td>\n",
       "      <td>0.0</td>\n",
       "    </tr>\n",
       "    <tr>\n",
       "      <th>1</th>\n",
       "      <td>0701-03_Entrevista_militar.txt</td>\n",
       "      <td>0.000656</td>\n",
       "      <td>0.002843</td>\n",
       "      <td>0.003500</td>\n",
       "      <td>0.000875</td>\n",
       "      <td>0.166448</td>\n",
       "      <td>0.160980</td>\n",
       "      <td>2.0</td>\n",
       "    </tr>\n",
       "    <tr>\n",
       "      <th>2</th>\n",
       "      <td>0702-03_Entrevista_militar.txt</td>\n",
       "      <td>0.002510</td>\n",
       "      <td>0.000000</td>\n",
       "      <td>0.000502</td>\n",
       "      <td>0.002510</td>\n",
       "      <td>0.008785</td>\n",
       "      <td>0.270833</td>\n",
       "      <td>0.0</td>\n",
       "    </tr>\n",
       "    <tr>\n",
       "      <th>3</th>\n",
       "      <td>0703-03_Entrevista_militar.txt</td>\n",
       "      <td>0.000000</td>\n",
       "      <td>0.000000</td>\n",
       "      <td>0.000000</td>\n",
       "      <td>0.001224</td>\n",
       "      <td>0.004896</td>\n",
       "      <td>0.294982</td>\n",
       "      <td>0.0</td>\n",
       "    </tr>\n",
       "    <tr>\n",
       "      <th>4</th>\n",
       "      <td>0705-03_Entrevista_militar.txt</td>\n",
       "      <td>0.001778</td>\n",
       "      <td>0.000000</td>\n",
       "      <td>0.000000</td>\n",
       "      <td>0.001778</td>\n",
       "      <td>0.015556</td>\n",
       "      <td>0.264444</td>\n",
       "      <td>0.0</td>\n",
       "    </tr>\n",
       "  </tbody>\n",
       "</table>\n",
       "</div>"
      ],
      "text/plain": [
       "                   nombre_archivo    score1    score2    score3    score4  \\\n",
       "0  0688-03_Entrevista_militar.txt  0.007424  0.001747  0.004803  0.004367   \n",
       "1  0701-03_Entrevista_militar.txt  0.000656  0.002843  0.003500  0.000875   \n",
       "2  0702-03_Entrevista_militar.txt  0.002510  0.000000  0.000502  0.002510   \n",
       "3  0703-03_Entrevista_militar.txt  0.000000  0.000000  0.000000  0.001224   \n",
       "4  0705-03_Entrevista_militar.txt  0.001778  0.000000  0.000000  0.001778   \n",
       "\n",
       "     score5    score6  nro_cluster  \n",
       "0  0.021834  0.301747          0.0  \n",
       "1  0.166448  0.160980          2.0  \n",
       "2  0.008785  0.270833          0.0  \n",
       "3  0.004896  0.294982          0.0  \n",
       "4  0.015556  0.264444          0.0  "
      ]
     },
     "execution_count": 3,
     "metadata": {},
     "output_type": "execute_result"
    }
   ],
   "source": [
    "clusters_3 = pd.read_csv(\"scores3.txt\", sep=',')\n",
    "clusters_4 = pd.read_csv(\"scores4.txt\", sep=',')\n",
    "clusters_5 = pd.read_csv(\"scores5.txt\", sep=',')\n",
    "clusters_6 = pd.read_csv(\"scores6.txt\", sep=',')\n",
    "clusters_3.head(5)"
   ]
  },
  {
   "cell_type": "code",
   "execution_count": 7,
   "metadata": {
    "collapsed": false
   },
   "outputs": [
    {
     "data": {
      "image/png": "[encoded data removed]",
      "text/plain": [
       "<matplotlib.figure.Figure at 0x7f3d7cb62e80>"
      ]
     },
     "metadata": {},
     "output_type": "display_data"
    }
   ],
   "source": [
    "plt.hist(clusters_3['nro_cluster'])\n",
    "plt.show()"
   ]
  },
  {
   "cell_type": "code",
   "execution_count": 8,
   "metadata": {
    "collapsed": false
   },
   "outputs": [
    {
     "data": {
      "image/png": "[encoded data removed]",
      "text/plain": [
       "<matplotlib.figure.Figure at 0x7f3d7caf7c18>"
      ]
     },
     "metadata": {},
     "output_type": "display_data"
    }
   ],
   "source": [
    "plt.hist(clusters_4['nro_cluster'])\n",
    "plt.show()"
   ]
  },
  {
   "cell_type": "code",
   "execution_count": 9,
   "metadata": {
    "collapsed": false
   },
   "outputs": [
    {
     "data": {
      "image/png": "[encoded data removed]",
      "text/plain": [
       "<matplotlib.figure.Figure at 0x7f3d7a33a9e8>"
      ]
     },
     "metadata": {},
     "output_type": "display_data"
    }
   ],
   "source": [
    "plt.hist(clusters_5['nro_cluster'])\n",
    "plt.show()"
   ]
  },
  {
   "cell_type": "code",
   "execution_count": 10,
   "metadata": {
    "collapsed": false
   },
   "outputs": [
    {
     "data": {
      "image/png": "[encoded data removed]",
      "text/plain": [
       "<matplotlib.figure.Figure at 0x7f3d7a2e3400>"
      ]
     },
     "metadata": {},
     "output_type": "display_data"
    }
   ],
   "source": [
    "plt.hist(clusters_6['nro_cluster'])\n",
    "plt.show()"
   ]
  },
  {
   "cell_type": "code",
   "execution_count": 11,
   "metadata": {
    "collapsed": false
   },
   "outputs": [
    {
     "ename": "NameError",
     "evalue": "name 'df1' is not defined",
     "output_type": "error",
     "traceback": [
      "\u001b[1;31m---------------------------------------------------------------------------\u001b[0m",
      "\u001b[1;31mNameError\u001b[0m                                 Traceback (most recent call last)",
      "\u001b[1;32m<ipython-input-11-a10c9d525b7b>\u001b[0m in \u001b[0;36m<module>\u001b[1;34m()\u001b[0m\n\u001b[0;32m      6\u001b[0m     \u001b[1;32mreturn\u001b[0m \u001b[1;33m(\u001b[0m\u001b[0mx\u001b[0m\u001b[1;33m[\u001b[0m\u001b[1;34m'score1'\u001b[0m\u001b[1;33m]\u001b[0m\u001b[1;33m.\u001b[0m\u001b[0mmean\u001b[0m\u001b[1;33m(\u001b[0m\u001b[1;33m)\u001b[0m\u001b[1;33m,\u001b[0m \u001b[0mx\u001b[0m\u001b[1;33m[\u001b[0m\u001b[1;34m'score2'\u001b[0m\u001b[1;33m]\u001b[0m\u001b[1;33m.\u001b[0m\u001b[0mmean\u001b[0m\u001b[1;33m(\u001b[0m\u001b[1;33m)\u001b[0m\u001b[1;33m,\u001b[0m \u001b[0mx\u001b[0m\u001b[1;33m[\u001b[0m\u001b[1;34m'score3'\u001b[0m\u001b[1;33m]\u001b[0m\u001b[1;33m.\u001b[0m\u001b[0mmean\u001b[0m\u001b[1;33m(\u001b[0m\u001b[1;33m)\u001b[0m\u001b[1;33m,\u001b[0m \u001b[0mx\u001b[0m\u001b[1;33m[\u001b[0m\u001b[1;34m'score4'\u001b[0m\u001b[1;33m]\u001b[0m\u001b[1;33m.\u001b[0m\u001b[0mmean\u001b[0m\u001b[1;33m(\u001b[0m\u001b[1;33m)\u001b[0m\u001b[1;33m,\u001b[0m \u001b[0mx\u001b[0m\u001b[1;33m[\u001b[0m\u001b[1;34m'score5'\u001b[0m\u001b[1;33m]\u001b[0m\u001b[1;33m.\u001b[0m\u001b[0mmean\u001b[0m\u001b[1;33m(\u001b[0m\u001b[1;33m)\u001b[0m\u001b[1;33m,\u001b[0m \u001b[0mx\u001b[0m\u001b[1;33m[\u001b[0m\u001b[1;34m'score6'\u001b[0m\u001b[1;33m]\u001b[0m\u001b[1;33m.\u001b[0m\u001b[0mmean\u001b[0m\u001b[1;33m(\u001b[0m\u001b[1;33m)\u001b[0m\u001b[1;33m)\u001b[0m\u001b[1;33m\u001b[0m\u001b[0m\n\u001b[0;32m      7\u001b[0m \u001b[1;33m\u001b[0m\u001b[0m\n\u001b[1;32m----> 8\u001b[1;33m \u001b[0mprint\u001b[0m\u001b[1;33m(\u001b[0m\u001b[0mscores_promedio\u001b[0m\u001b[1;33m(\u001b[0m\u001b[0mdf1\u001b[0m\u001b[1;33m)\u001b[0m\u001b[1;33m)\u001b[0m\u001b[1;33m\u001b[0m\u001b[0m\n\u001b[0m\u001b[0;32m      9\u001b[0m \u001b[0mprint\u001b[0m\u001b[1;33m(\u001b[0m\u001b[1;34m\"\\n\"\u001b[0m\u001b[1;33m)\u001b[0m\u001b[1;33m\u001b[0m\u001b[0m\n\u001b[0;32m     10\u001b[0m \u001b[0mprint\u001b[0m\u001b[1;33m(\u001b[0m\u001b[0mscores_promedio\u001b[0m\u001b[1;33m(\u001b[0m\u001b[0mdf2\u001b[0m\u001b[1;33m)\u001b[0m\u001b[1;33m)\u001b[0m\u001b[1;33m\u001b[0m\u001b[0m\n",
      "\u001b[1;31mNameError\u001b[0m: name 'df1' is not defined"
     ]
    }
   ],
   "source": [
    "clusters_3_df1 = clusters_3[clusters_3['nro_cluster'] == 0.0]\n",
    "clusters_3_df2 = clusters_3[clusters_3['nro_cluster'] == 1.0]\n",
    "clusters_3_df3 = clusters_3[clusters_3['nro_cluster'] == 2.0]\n",
    "\n",
    "def scores_promedio(x):\n",
    "    return (x['score1'].mean(), x['score2'].mean(), x['score3'].mean(), x['score4'].mean(), x['score5'].mean(), x['score6'].mean())\n",
    "\n",
    "print(scores_promedio(df1))\n",
    "print(\"\\n\")\n",
    "print(scores_promedio(df2))\n",
    "print(\"\\n\")\n",
    "print(scores_promedio(df3))"
   ]
  },
  {
   "cell_type": "code",
   "execution_count": 12,
   "metadata": {
    "collapsed": false
   },
   "outputs": [
    {
     "name": "stdout",
     "output_type": "stream",
     "text": [
      "(0.0017975958051888955, 0.000248920597077564, 0.0018705367318396732, 0.0012129518959167053, 0.5784577224027434, 0.10731828397199447)\n",
      "\n",
      "\n",
      "(0.0039956383119203204, 0.0005903577347235032, 0.0036059438464360626, 0.002864129177838433, 0.027077857120252034, 0.25472637537598974)\n",
      "\n",
      "\n",
      "(0.004792874274764371, 0.0010114338051821206, 0.004628372616171479, 0.0029997638321586475, 0.1679287371042256, 0.2170082010612695)\n",
      "\n",
      "\n",
      "(0.004861949842005791, 0.0011109597594814694, 0.005109234907577389, 0.0031238533626796734, 0.3661988334653065, 0.1723742666189513)\n"
     ]
    }
   ],
   "source": [
    "clusters_4_df1 = clusters_4[clusters_4['nro_cluster'] == 0.0]\n",
    "clusters_4_df2 = clusters_4[clusters_4['nro_cluster'] == 1.0]\n",
    "clusters_4_df3 = clusters_4[clusters_4['nro_cluster'] == 2.0]\n",
    "clusters_4_df4 = clusters_4[clusters_4['nro_cluster'] == 3.0]\n",
    "\n",
    "def scores_promedio(x):\n",
    "    return (x['score1'].mean(), x['score2'].mean(), x['score3'].mean(), x['score4'].mean(), x['score5'].mean(), x['score6'].mean())\n",
    "\n",
    "print(scores_promedio(clusters_4_df1))\n",
    "print(\"\\n\")\n",
    "print(scores_promedio(clusters_4_df2))\n",
    "print(\"\\n\")\n",
    "print(scores_promedio(clusters_4_df3))\n",
    "print(\"\\n\")\n",
    "print(scores_promedio(clusters_4_df4))"
   ]
  },
  {
   "cell_type": "code",
   "execution_count": 13,
   "metadata": {
    "collapsed": false
   },
   "outputs": [
    {
     "name": "stdout",
     "output_type": "stream",
     "text": [
      "(0.011431443032479829, 0.001984563897195962, 0.012564745525973697, 0.006412931634099107, 0.05017721560791997, 0.3612669559732892)\n",
      "\n",
      "\n",
      "(0.0017688038846666399, 0.00022584603608674018, 0.00180030837020734, 0.0011667194226489903, 0.5807254927944692, 0.1057550496006881)\n",
      "\n",
      "\n",
      "(0.005016674552282209, 0.0011763568670567195, 0.005246051450532768, 0.003105454061601566, 0.37765020038168695, 0.17169094554216652)\n",
      "\n",
      "\n",
      "(0.0028382435080559214, 0.0003769021855439772, 0.002162255061344418, 0.002282280501831273, 0.02676833891835144, 0.23424346356908443)\n",
      "\n",
      "\n",
      "(0.004047933497135596, 0.0008874920492048277, 0.003943587714555448, 0.00276041511310241, 0.17968564197419637, 0.21013764217290282)\n"
     ]
    }
   ],
   "source": [
    "clusters_5_df1 = clusters_5[clusters_5['nro_cluster'] == 0.0]\n",
    "clusters_5_df2 = clusters_5[clusters_5['nro_cluster'] == 1.0]\n",
    "clusters_5_df3 = clusters_5[clusters_5['nro_cluster'] == 2.0]\n",
    "clusters_5_df4 = clusters_5[clusters_5['nro_cluster'] == 3.0]\n",
    "clusters_5_df5 = clusters_5[clusters_5['nro_cluster'] == 4.0]\n",
    "\n",
    "def scores_promedio(x):\n",
    "    return (x['score1'].mean(), x['score2'].mean(), x['score3'].mean(), x['score4'].mean(), x['score5'].mean(), x['score6'].mean())\n",
    "\n",
    "print(scores_promedio(clusters_5_df1))\n",
    "print(\"\\n\")\n",
    "print(scores_promedio(clusters_5_df2))\n",
    "print(\"\\n\")\n",
    "print(scores_promedio(clusters_5_df3))\n",
    "print(\"\\n\")\n",
    "print(scores_promedio(clusters_5_df4))\n",
    "print(\"\\n\")\n",
    "print(scores_promedio(clusters_5_df5))"
   ]
  },
  {
   "cell_type": "code",
   "execution_count": 14,
   "metadata": {
    "collapsed": false
   },
   "outputs": [
    {
     "name": "stdout",
     "output_type": "stream",
     "text": [
      "(0.012839344600489196, 0.0024157737070556536, 0.014541141002940227, 0.0072181182489572965, 0.05021535747695514, 0.3779328667194757)\n",
      "\n",
      "\n",
      "(0.0028110162739332163, 0.00034554501560276756, 0.0021111809285778373, 0.002287637932391581, 0.020640023148518993, 0.23721730188496123)\n",
      "\n",
      "\n",
      "(0.0037151354106958593, 0.0004836978795249007, 0.0037910685356797843, 0.0020976836943873067, 0.4510267860328528, 0.14744899909931472)\n",
      "\n",
      "\n",
      "(0.00418841961190604, 0.0009052040545867361, 0.004022488510697957, 0.002759177255107331, 0.12960982124422255, 0.22457892178057293)\n",
      "\n",
      "\n",
      "(0.0015255826858738795, 0.00022392943675341527, 0.0015736899255712822, 0.0010256730783730328, 0.6100245618290729, 0.09832447566733177)\n",
      "\n",
      "\n",
      "(0.004740957607556766, 0.0011821866787321694, 0.004711489161549288, 0.003271130511001085, 0.26622722679961247, 0.19161241520810163)\n"
     ]
    }
   ],
   "source": [
    "clusters_6_df1 = clusters_6[clusters_6['nro_cluster'] == 0.0]\n",
    "clusters_6_df2 = clusters_6[clusters_6['nro_cluster'] == 1.0]\n",
    "clusters_6_df3 = clusters_6[clusters_6['nro_cluster'] == 2.0]\n",
    "clusters_6_df4 = clusters_6[clusters_6['nro_cluster'] == 3.0]\n",
    "clusters_6_df5 = clusters_6[clusters_6['nro_cluster'] == 4.0]\n",
    "clusters_6_df6 = clusters_6[clusters_6['nro_cluster'] == 5.0]\n",
    "\n",
    "def scores_promedio(x):\n",
    "    return (x['score1'].mean(), x['score2'].mean(), x['score3'].mean(), x['score4'].mean(), x['score5'].mean(), x['score6'].mean())\n",
    "\n",
    "print(scores_promedio(clusters_6_df1))\n",
    "print(\"\\n\")\n",
    "print(scores_promedio(clusters_6_df2))\n",
    "print(\"\\n\")\n",
    "print(scores_promedio(clusters_6_df3))\n",
    "print(\"\\n\")\n",
    "print(scores_promedio(clusters_6_df4))\n",
    "print(\"\\n\")\n",
    "print(scores_promedio(clusters_6_df5))\n",
    "print(\"\\n\")\n",
    "print(scores_promedio(clusters_6_df6))"
   ]
  },
  {
   "cell_type": "code",
   "execution_count": 20,
   "metadata": {
    "collapsed": false
   },
   "outputs": [
    {
     "data": {
      "text/plain": [
       "0.8367952522255193"
      ]
     },
     "execution_count": 20,
     "metadata": {},
     "output_type": "execute_result"
    }
   ],
   "source": [
    "df_filtrado = clusters_6[(clusters_6['nro_cluster'] == 1.0) | (clusters_6['nro_cluster'] == 3.0) | (clusters_6['nro_cluster'] == 5.0) | (clusters_6['nro_cluster'] == 2.0)]\n",
    "len(df_filtrado)/len(clusters_6)"
   ]
  },
  {
   "cell_type": "code",
   "execution_count": 4,
   "metadata": {
    "collapsed": false
   },
   "outputs": [],
   "source": [
    "def plotear_puntos(x):\n",
    "    plt.scatter(x['score5'], x['score6'])\n",
    "    plt.show()\n",
    "    \n",
    "def plotear_clusters(data):\n",
    "    groups = data.groupby('nro_cluster')\n",
    "    fig, ax = plt.subplots(figsize=(20, 10))\n",
    "    ax.margins(0.05) # Optional, just adds 5% padding to the autoscaling\n",
    "    for name, group in groups:\n",
    "        ax.plot(group.score5, group.score6, marker='o', linestyle='', ms=5, label=name)\n",
    "    ax.legend()\n",
    "    plt.show()"
   ]
  },
  {
   "cell_type": "code",
   "execution_count": 18,
   "metadata": {
    "collapsed": false
   },
   "outputs": [
    {
     "data": {
      "image/png": "[encoded data removed]",
      "text/plain": [
       "<matplotlib.figure.Figure at 0x7f3d7a157da0>"
      ]
     },
     "metadata": {},
     "output_type": "display_data"
    }
   ],
   "source": [
    "plotear_clusters(clusters_6)"
   ]
  },
  {
   "cell_type": "code",
   "execution_count": null,
   "metadata": {
    "collapsed": true
   },
   "outputs": [],
   "source": []
  },
  {
   "cell_type": "code",
   "execution_count": 12,
   "metadata": {
    "collapsed": false
   },
   "outputs": [
    {
     "data": {
      "text/plain": [
       "<matplotlib.axes._subplots.AxesSubplot at 0x7fce0cf61048>"
      ]
     },
     "execution_count": 12,
     "metadata": {},
     "output_type": "execute_result"
    },
    {
     "data": {
      "image/png": "[encoded data removed]",
      "text/plain": [
       "<matplotlib.figure.Figure at 0x7fce0cdf6208>"
      ]
     },
     "metadata": {},
     "output_type": "display_data"
    }
   ],
   "source": [
    "clusters_3_red = clusters_3[['score5', 'score6', 'nro_cluster']]\n",
    "sns.swarmplot(x=\"score5\", y=\"score6\", data=clusters_3_red, hue=\"nro_cluster\", size=10)"
   ]
  },
  {
   "cell_type": "code",
   "execution_count": 21,
   "metadata": {
    "collapsed": false
   },
   "outputs": [
    {
     "data": {
      "text/html": [
       "<div>\n",
       "<table border=\"1\" class=\"dataframe\">\n",
       "  <thead>\n",
       "    <tr style=\"text-align: right;\">\n",
       "      <th></th>\n",
       "      <th>nombre_archivo</th>\n",
       "      <th>score1</th>\n",
       "      <th>score2</th>\n",
       "      <th>score3</th>\n",
       "      <th>score4</th>\n",
       "      <th>score5</th>\n",
       "      <th>score6</th>\n",
       "      <th>nro_cluster</th>\n",
       "    </tr>\n",
       "  </thead>\n",
       "  <tbody>\n",
       "    <tr>\n",
       "      <th>0</th>\n",
       "      <td>0688-03_Entrevista_militar.txt</td>\n",
       "      <td>0.007424</td>\n",
       "      <td>0.001747</td>\n",
       "      <td>0.004803</td>\n",
       "      <td>0.004367</td>\n",
       "      <td>0.021834</td>\n",
       "      <td>0.301747</td>\n",
       "      <td>1.0</td>\n",
       "    </tr>\n",
       "    <tr>\n",
       "      <th>1</th>\n",
       "      <td>0701-03_Entrevista_militar.txt</td>\n",
       "      <td>0.000656</td>\n",
       "      <td>0.002843</td>\n",
       "      <td>0.003500</td>\n",
       "      <td>0.000875</td>\n",
       "      <td>0.166448</td>\n",
       "      <td>0.160980</td>\n",
       "      <td>3.0</td>\n",
       "    </tr>\n",
       "    <tr>\n",
       "      <th>2</th>\n",
       "      <td>0702-03_Entrevista_militar.txt</td>\n",
       "      <td>0.002510</td>\n",
       "      <td>0.000000</td>\n",
       "      <td>0.000502</td>\n",
       "      <td>0.002510</td>\n",
       "      <td>0.008785</td>\n",
       "      <td>0.270833</td>\n",
       "      <td>1.0</td>\n",
       "    </tr>\n",
       "    <tr>\n",
       "      <th>3</th>\n",
       "      <td>0703-03_Entrevista_militar.txt</td>\n",
       "      <td>0.000000</td>\n",
       "      <td>0.000000</td>\n",
       "      <td>0.000000</td>\n",
       "      <td>0.001224</td>\n",
       "      <td>0.004896</td>\n",
       "      <td>0.294982</td>\n",
       "      <td>1.0</td>\n",
       "    </tr>\n",
       "    <tr>\n",
       "      <th>4</th>\n",
       "      <td>0705-03_Entrevista_militar.txt</td>\n",
       "      <td>0.001778</td>\n",
       "      <td>0.000000</td>\n",
       "      <td>0.000000</td>\n",
       "      <td>0.001778</td>\n",
       "      <td>0.015556</td>\n",
       "      <td>0.264444</td>\n",
       "      <td>1.0</td>\n",
       "    </tr>\n",
       "  </tbody>\n",
       "</table>\n",
       "</div>"
      ],
      "text/plain": [
       "                   nombre_archivo    score1    score2    score3    score4  \\\n",
       "0  0688-03_Entrevista_militar.txt  0.007424  0.001747  0.004803  0.004367   \n",
       "1  0701-03_Entrevista_militar.txt  0.000656  0.002843  0.003500  0.000875   \n",
       "2  0702-03_Entrevista_militar.txt  0.002510  0.000000  0.000502  0.002510   \n",
       "3  0703-03_Entrevista_militar.txt  0.000000  0.000000  0.000000  0.001224   \n",
       "4  0705-03_Entrevista_militar.txt  0.001778  0.000000  0.000000  0.001778   \n",
       "\n",
       "     score5    score6  nro_cluster  \n",
       "0  0.021834  0.301747          1.0  \n",
       "1  0.166448  0.160980          3.0  \n",
       "2  0.008785  0.270833          1.0  \n",
       "3  0.004896  0.294982          1.0  \n",
       "4  0.015556  0.264444          1.0  "
      ]
     },
     "execution_count": 21,
     "metadata": {},
     "output_type": "execute_result"
    }
   ],
   "source": [
    "escogidos = clusters_6[(clusters_6['nro_cluster'] == 1.0) | (clusters_6['nro_cluster'] == 3.0) | (clusters_6['nro_cluster'] == 5.0) | (clusters_6['nro_cluster'] == 2.0)]\n",
    "escogidos.head(5)"
   ]
  },
  {
   "cell_type": "code",
   "execution_count": 22,
   "metadata": {
    "collapsed": false
   },
   "outputs": [
    {
     "data": {
      "text/plain": [
       "1410"
      ]
     },
     "execution_count": 22,
     "metadata": {},
     "output_type": "execute_result"
    }
   ],
   "source": [
    "nombres = list(escogidos['nombre_archivo'])\n",
    "len(escogidos)"
   ]
  },
  {
   "cell_type": "code",
   "execution_count": 23,
   "metadata": {
    "collapsed": true
   },
   "outputs": [],
   "source": [
    "with open(\"nombres_escogidos.txt\", 'a') as f:\n",
    "    for name in nombres:\n",
    "        print(name, file=f)"
   ]
  },
  {
   "cell_type": "markdown",
   "metadata": {
    "collapsed": true
   },
   "source": [
    "<h2>Ahora miramos cómo quedaron los archivos limpios en cuanto a legibilidad</h2>"
   ]
  },
  {
   "cell_type": "code",
   "execution_count": 12,
   "metadata": {
    "collapsed": false
   },
   "outputs": [
    {
     "data": {
      "text/html": [
       "<div>\n",
       "<table border=\"1\" class=\"dataframe\">\n",
       "  <thead>\n",
       "    <tr style=\"text-align: right;\">\n",
       "      <th></th>\n",
       "      <th>nombre_archivo</th>\n",
       "      <th>score1</th>\n",
       "      <th>score2</th>\n",
       "      <th>score3</th>\n",
       "      <th>score4</th>\n",
       "      <th>score5</th>\n",
       "      <th>score6</th>\n",
       "      <th>nro_cluster</th>\n",
       "    </tr>\n",
       "  </thead>\n",
       "  <tbody>\n",
       "    <tr>\n",
       "      <th>0</th>\n",
       "      <td>0688-03_Entrevista_militar.txt</td>\n",
       "      <td>0.005868</td>\n",
       "      <td>0.001676</td>\n",
       "      <td>0.0</td>\n",
       "      <td>0.000419</td>\n",
       "      <td>0.002934</td>\n",
       "      <td>0.086337</td>\n",
       "      <td>2.0</td>\n",
       "    </tr>\n",
       "    <tr>\n",
       "      <th>1</th>\n",
       "      <td>0701-03_Entrevista_militar.txt</td>\n",
       "      <td>0.000558</td>\n",
       "      <td>0.000000</td>\n",
       "      <td>0.0</td>\n",
       "      <td>0.000000</td>\n",
       "      <td>0.002231</td>\n",
       "      <td>0.079476</td>\n",
       "      <td>2.0</td>\n",
       "    </tr>\n",
       "    <tr>\n",
       "      <th>2</th>\n",
       "      <td>0702-03_Entrevista_militar.txt</td>\n",
       "      <td>0.000264</td>\n",
       "      <td>0.000000</td>\n",
       "      <td>0.0</td>\n",
       "      <td>0.000264</td>\n",
       "      <td>0.002636</td>\n",
       "      <td>0.084871</td>\n",
       "      <td>2.0</td>\n",
       "    </tr>\n",
       "    <tr>\n",
       "      <th>3</th>\n",
       "      <td>0703-03_Entrevista_militar.txt</td>\n",
       "      <td>0.001190</td>\n",
       "      <td>0.000000</td>\n",
       "      <td>0.0</td>\n",
       "      <td>0.001190</td>\n",
       "      <td>0.005952</td>\n",
       "      <td>0.114286</td>\n",
       "      <td>2.0</td>\n",
       "    </tr>\n",
       "    <tr>\n",
       "      <th>4</th>\n",
       "      <td>0705-03_Entrevista_militar.txt</td>\n",
       "      <td>0.001729</td>\n",
       "      <td>0.000000</td>\n",
       "      <td>0.0</td>\n",
       "      <td>0.000864</td>\n",
       "      <td>0.003457</td>\n",
       "      <td>0.094641</td>\n",
       "      <td>2.0</td>\n",
       "    </tr>\n",
       "    <tr>\n",
       "      <th>5</th>\n",
       "      <td>0706-03_Entrevista_militar_ok.txt</td>\n",
       "      <td>0.000384</td>\n",
       "      <td>0.000000</td>\n",
       "      <td>0.0</td>\n",
       "      <td>0.001151</td>\n",
       "      <td>0.006521</td>\n",
       "      <td>0.110855</td>\n",
       "      <td>2.0</td>\n",
       "    </tr>\n",
       "    <tr>\n",
       "      <th>6</th>\n",
       "      <td>0709-03_Entrevista_militar.txt</td>\n",
       "      <td>0.002909</td>\n",
       "      <td>0.000000</td>\n",
       "      <td>0.0</td>\n",
       "      <td>0.000000</td>\n",
       "      <td>0.007066</td>\n",
       "      <td>0.105985</td>\n",
       "      <td>2.0</td>\n",
       "    </tr>\n",
       "    <tr>\n",
       "      <th>7</th>\n",
       "      <td>0710-03_Entrevista_militar.txt</td>\n",
       "      <td>0.000000</td>\n",
       "      <td>0.000000</td>\n",
       "      <td>0.0</td>\n",
       "      <td>0.000000</td>\n",
       "      <td>0.005687</td>\n",
       "      <td>0.109005</td>\n",
       "      <td>2.0</td>\n",
       "    </tr>\n",
       "    <tr>\n",
       "      <th>8</th>\n",
       "      <td>0711-03_Entrevista_militar.txt</td>\n",
       "      <td>0.000427</td>\n",
       "      <td>0.000000</td>\n",
       "      <td>0.0</td>\n",
       "      <td>0.000142</td>\n",
       "      <td>0.003983</td>\n",
       "      <td>0.115932</td>\n",
       "      <td>2.0</td>\n",
       "    </tr>\n",
       "    <tr>\n",
       "      <th>9</th>\n",
       "      <td>0712-03_Entrevista_militar.txt</td>\n",
       "      <td>0.001159</td>\n",
       "      <td>0.000000</td>\n",
       "      <td>0.0</td>\n",
       "      <td>0.000869</td>\n",
       "      <td>0.002028</td>\n",
       "      <td>0.073291</td>\n",
       "      <td>2.0</td>\n",
       "    </tr>\n",
       "    <tr>\n",
       "      <th>10</th>\n",
       "      <td>0713-03_Entrevista_militar.txt</td>\n",
       "      <td>0.006608</td>\n",
       "      <td>0.000000</td>\n",
       "      <td>0.0</td>\n",
       "      <td>0.000000</td>\n",
       "      <td>0.005507</td>\n",
       "      <td>0.103524</td>\n",
       "      <td>2.0</td>\n",
       "    </tr>\n",
       "    <tr>\n",
       "      <th>11</th>\n",
       "      <td>0714-03_Entrevista_militar.txt</td>\n",
       "      <td>0.003858</td>\n",
       "      <td>0.000000</td>\n",
       "      <td>0.0</td>\n",
       "      <td>0.003858</td>\n",
       "      <td>0.002315</td>\n",
       "      <td>0.136574</td>\n",
       "      <td>0.0</td>\n",
       "    </tr>\n",
       "    <tr>\n",
       "      <th>12</th>\n",
       "      <td>0716-03_Entrevista_militar.txt</td>\n",
       "      <td>0.005020</td>\n",
       "      <td>0.000000</td>\n",
       "      <td>0.0</td>\n",
       "      <td>0.000519</td>\n",
       "      <td>0.001212</td>\n",
       "      <td>0.101610</td>\n",
       "      <td>2.0</td>\n",
       "    </tr>\n",
       "    <tr>\n",
       "      <th>13</th>\n",
       "      <td>0717-03_Entrevista_militar_OK.txt</td>\n",
       "      <td>0.012482</td>\n",
       "      <td>0.000367</td>\n",
       "      <td>0.0</td>\n",
       "      <td>0.000734</td>\n",
       "      <td>0.017988</td>\n",
       "      <td>0.100587</td>\n",
       "      <td>2.0</td>\n",
       "    </tr>\n",
       "    <tr>\n",
       "      <th>14</th>\n",
       "      <td>0718-03_Entrevista_militar.txt</td>\n",
       "      <td>0.000814</td>\n",
       "      <td>0.000000</td>\n",
       "      <td>0.0</td>\n",
       "      <td>0.000271</td>\n",
       "      <td>0.002172</td>\n",
       "      <td>0.079262</td>\n",
       "      <td>2.0</td>\n",
       "    </tr>\n",
       "    <tr>\n",
       "      <th>15</th>\n",
       "      <td>0719-03_Entrevista_militar.txt</td>\n",
       "      <td>0.001834</td>\n",
       "      <td>0.000834</td>\n",
       "      <td>0.0</td>\n",
       "      <td>0.000500</td>\n",
       "      <td>0.005503</td>\n",
       "      <td>0.094714</td>\n",
       "      <td>2.0</td>\n",
       "    </tr>\n",
       "    <tr>\n",
       "      <th>16</th>\n",
       "      <td>0720-03_Entrevista_militar.txt</td>\n",
       "      <td>0.001283</td>\n",
       "      <td>0.000000</td>\n",
       "      <td>0.0</td>\n",
       "      <td>0.002566</td>\n",
       "      <td>0.000000</td>\n",
       "      <td>0.096857</td>\n",
       "      <td>2.0</td>\n",
       "    </tr>\n",
       "    <tr>\n",
       "      <th>17</th>\n",
       "      <td>0722-03_Entrevista_militar.txt</td>\n",
       "      <td>0.000755</td>\n",
       "      <td>0.000000</td>\n",
       "      <td>0.0</td>\n",
       "      <td>0.000000</td>\n",
       "      <td>0.011321</td>\n",
       "      <td>0.082264</td>\n",
       "      <td>2.0</td>\n",
       "    </tr>\n",
       "    <tr>\n",
       "      <th>18</th>\n",
       "      <td>0724-03_Entrevista_militar.txt</td>\n",
       "      <td>0.001546</td>\n",
       "      <td>0.000000</td>\n",
       "      <td>0.0</td>\n",
       "      <td>0.000000</td>\n",
       "      <td>0.002318</td>\n",
       "      <td>0.109737</td>\n",
       "      <td>2.0</td>\n",
       "    </tr>\n",
       "    <tr>\n",
       "      <th>19</th>\n",
       "      <td>0725-03_Entrevista_militar.txt</td>\n",
       "      <td>0.014920</td>\n",
       "      <td>0.000694</td>\n",
       "      <td>0.0</td>\n",
       "      <td>0.003470</td>\n",
       "      <td>0.005552</td>\n",
       "      <td>0.127689</td>\n",
       "      <td>0.0</td>\n",
       "    </tr>\n",
       "  </tbody>\n",
       "</table>\n",
       "</div>"
      ],
      "text/plain": [
       "                       nombre_archivo    score1    score2  score3    score4  \\\n",
       "0      0688-03_Entrevista_militar.txt  0.005868  0.001676     0.0  0.000419   \n",
       "1      0701-03_Entrevista_militar.txt  0.000558  0.000000     0.0  0.000000   \n",
       "2      0702-03_Entrevista_militar.txt  0.000264  0.000000     0.0  0.000264   \n",
       "3      0703-03_Entrevista_militar.txt  0.001190  0.000000     0.0  0.001190   \n",
       "4      0705-03_Entrevista_militar.txt  0.001729  0.000000     0.0  0.000864   \n",
       "5   0706-03_Entrevista_militar_ok.txt  0.000384  0.000000     0.0  0.001151   \n",
       "6      0709-03_Entrevista_militar.txt  0.002909  0.000000     0.0  0.000000   \n",
       "7      0710-03_Entrevista_militar.txt  0.000000  0.000000     0.0  0.000000   \n",
       "8      0711-03_Entrevista_militar.txt  0.000427  0.000000     0.0  0.000142   \n",
       "9      0712-03_Entrevista_militar.txt  0.001159  0.000000     0.0  0.000869   \n",
       "10     0713-03_Entrevista_militar.txt  0.006608  0.000000     0.0  0.000000   \n",
       "11     0714-03_Entrevista_militar.txt  0.003858  0.000000     0.0  0.003858   \n",
       "12     0716-03_Entrevista_militar.txt  0.005020  0.000000     0.0  0.000519   \n",
       "13  0717-03_Entrevista_militar_OK.txt  0.012482  0.000367     0.0  0.000734   \n",
       "14     0718-03_Entrevista_militar.txt  0.000814  0.000000     0.0  0.000271   \n",
       "15     0719-03_Entrevista_militar.txt  0.001834  0.000834     0.0  0.000500   \n",
       "16     0720-03_Entrevista_militar.txt  0.001283  0.000000     0.0  0.002566   \n",
       "17     0722-03_Entrevista_militar.txt  0.000755  0.000000     0.0  0.000000   \n",
       "18     0724-03_Entrevista_militar.txt  0.001546  0.000000     0.0  0.000000   \n",
       "19     0725-03_Entrevista_militar.txt  0.014920  0.000694     0.0  0.003470   \n",
       "\n",
       "      score5    score6  nro_cluster  \n",
       "0   0.002934  0.086337          2.0  \n",
       "1   0.002231  0.079476          2.0  \n",
       "2   0.002636  0.084871          2.0  \n",
       "3   0.005952  0.114286          2.0  \n",
       "4   0.003457  0.094641          2.0  \n",
       "5   0.006521  0.110855          2.0  \n",
       "6   0.007066  0.105985          2.0  \n",
       "7   0.005687  0.109005          2.0  \n",
       "8   0.003983  0.115932          2.0  \n",
       "9   0.002028  0.073291          2.0  \n",
       "10  0.005507  0.103524          2.0  \n",
       "11  0.002315  0.136574          0.0  \n",
       "12  0.001212  0.101610          2.0  \n",
       "13  0.017988  0.100587          2.0  \n",
       "14  0.002172  0.079262          2.0  \n",
       "15  0.005503  0.094714          2.0  \n",
       "16  0.000000  0.096857          2.0  \n",
       "17  0.011321  0.082264          2.0  \n",
       "18  0.002318  0.109737          2.0  \n",
       "19  0.005552  0.127689          0.0  "
      ]
     },
     "execution_count": 12,
     "metadata": {},
     "output_type": "execute_result"
    }
   ],
   "source": [
    "limpios_cluster_3 = pd.read_csv(\"scores_limpios3.txt\", sep=',')\n",
    "limpios_cluster_4 = pd.read_csv(\"scores_limpios4.txt\", sep=',')\n",
    "limpios_cluster_5 = pd.read_csv(\"scores_limpios5.txt\", sep=',')\n",
    "limpios_cluster_6 = pd.read_csv(\"scores_limpios6.txt\", sep=',')\n",
    "limpios_cluster_3.head(20)"
   ]
  },
  {
   "cell_type": "code",
   "execution_count": 11,
   "metadata": {
    "collapsed": false
   },
   "outputs": [
    {
     "data": {
      "image/png": "[encoded data removed]",
      "text/plain": [
       "<matplotlib.figure.Figure at 0x7fa696dff6a0>"
      ]
     },
     "metadata": {},
     "output_type": "display_data"
    }
   ],
   "source": [
    "plotear_clusters(limpios_cluster_6)"
   ]
  },
  {
   "cell_type": "code",
   "execution_count": null,
   "metadata": {
    "collapsed": true
   },
   "outputs": [],
   "source": []
  }
 ],
 "metadata": {
  "anaconda-cloud": {},
  "kernelspec": {
   "display_name": "Python [Root]",
   "language": "python",
   "name": "Python [Root]"
  },
  "language_info": {
   "codemirror_mode": {
    "name": "ipython",
    "version": 3
   },
   "file_extension": ".py",
   "mimetype": "text/x-python",
   "name": "python",
   "nbconvert_exporter": "python",
   "pygments_lexer": "ipython3",
   "version": "3.5.2"
  }
 },
 "nbformat": 4,
 "nbformat_minor": 0
}
